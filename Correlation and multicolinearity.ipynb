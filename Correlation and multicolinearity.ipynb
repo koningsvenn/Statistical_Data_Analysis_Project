{
 "cells": [
  {
   "cell_type": "code",
   "execution_count": null,
   "id": "c3070317",
   "metadata": {},
   "outputs": [],
   "source": [
    "import pandas as pd\n",
    "import seaborn as sns\n",
    "import matplotlib.pyplot as plt\n",
    "from sklearn import preprocessing\n",
    "from sklearn.preprocessing import StandardScaler"
   ]
  },
  {
   "cell_type": "code",
   "execution_count": null,
   "id": "792d3bd0",
   "metadata": {},
   "outputs": [],
   "source": [
    "import pandas as pd\n",
    "\n",
    "# Read the data from the file into a DataFrame\n",
    "bejaia = pd.read_csv('Bejaia.csv')\n",
    "sidi = pd.read_csv('Sidi.csv')\n",
    "\n",
    "# These files contain the following columns:\n",
    "#   - day: the date of the observation\n",
    "#   - month: the month of the observation\n",
    "#   - year: the year of the observation\n",
    "#   - temperature noon (temperature max) in Celsius degrees: 22 to 42\n",
    "#   - RH: Relative Humidity in %: 21 to 90\n",
    "#   - Ws: Wind speed in km/h: 6 to 29\n",
    "#   - Rain: total day in mm: 0 to 16.8\n",
    "#   - FFMC: Fine Fuel Moisture Code (FFMC) index from the FWI system: 28.6 to 92.5\n",
    "#   - DMC: Duff Moisture Code (DMC) index from the FWI system: 1.1 to 65.9\n",
    "#          DCDrought Code (DC) index from the FWI system: 7 to 220.4\n",
    "\n",
    "# Print the first five rows of the DataFrame\n",
    "print(bejaia.head())\n",
    "print(\"----\")\n",
    "print(sidi.head())"
   ]
  },
  {
   "cell_type": "code",
   "execution_count": null,
   "id": "1c020e1c",
   "metadata": {},
   "outputs": [],
   "source": [
    "# clean the data (clean the space in rows and columns; clean the none data)\n",
    "bejaia.columns = bejaia.columns.str.strip()\n",
    "display(bejaia.columns)\n",
    "bejaia.dropna(inplace=True)\n",
    "sidi.columns = sidi.columns.str.strip()\n",
    "display(sidi.columns)\n",
    "sidi.dropna(inplace=True)\n",
    "\n",
    "bejaia.Classes = bejaia.Classes.str.strip()\n",
    "display(bejaia.Classes.unique())\n",
    "sidi.Classes = sidi.Classes.str.strip()\n",
    "display(sidi.Classes.unique())\n",
    "\n",
    "# drop the year column\n",
    "bejaia = bejaia.drop(['year'], axis = 1)\n",
    "sidi = sidi.drop(['year'], axis=1)"
   ]
  },
  {
   "cell_type": "code",
   "execution_count": null,
   "id": "b75ee63b",
   "metadata": {},
   "outputs": [],
   "source": [
    "# recode the class as a dumby variable (not fire: 0, fire: 1)\n",
    "replacement_mapping = {'fire': 1, 'not fire': 0}\n",
    "bejaia['Classes'] = bejaia['Classes'].replace(replacement_mapping)\n",
    "sidi['Classes'] = sidi['Classes'].replace(replacement_mapping)"
   ]
  },
  {
   "cell_type": "code",
   "execution_count": null,
   "id": "3b209674",
   "metadata": {},
   "outputs": [],
   "source": [
    "# get the coefficient matrix\n",
    "display(bejaia.corr())\n",
    "display(sidi.corr())"
   ]
  },
  {
   "cell_type": "code",
   "execution_count": null,
   "id": "4394ce35",
   "metadata": {},
   "outputs": [],
   "source": [
    "# get the heatmap of the coefficient matrix to get a better idea of the correlation among variables\n",
    "sns.set(rc={'figure.figsize':(12,10)})\n",
    "sns.heatmap(bejaia.corr())"
   ]
  },
  {
   "cell_type": "code",
   "execution_count": null,
   "id": "4065936a",
   "metadata": {},
   "outputs": [],
   "source": [
    "sns.set(rc={'figure.figsize':(12, 10)})\n",
    "sns.heatmap(sidi.corr())"
   ]
  },
  {
   "cell_type": "markdown",
   "id": "f313acaa",
   "metadata": {},
   "source": [
    "Based on these two heatmaps we can find a general pattern:\n",
    "(1) The FWI indices seem to have a strong and positive correlation with the occurence of forest fire\n",
    "(2) Natural factors like rain and relative humidity seem to have a strong and negative correlation with the occurence of forest fire\n",
    "(3) Natural factors, like temperature seem to have a middle and positive correlation with the occurence of forest fire.\n"
   ]
  },
  {
   "cell_type": "markdown",
   "id": "e84bf3fe",
   "metadata": {},
   "source": [
    "Another pattern we can identify is that some factors have a correlation coefficient that is so close to 1, which means we may have a multicollinearity that can introduce a bias to our regression model. In this case, we can see the correlation coefficient between BUI and DMC seem to be too high. Instead of making a distinction using naked eyes, we will use algorithim to help us filter our the highly-similar variables."
   ]
  },
  {
   "cell_type": "code",
   "execution_count": null,
   "id": "20eb6ddf",
   "metadata": {},
   "outputs": [],
   "source": [
    "def multicolinearity_id(dataset, threshold):\n",
    "    col_corr = set()\n",
    "    corr_matrix = dataset.corr()\n",
    "    \n",
    "    # loop through the correlation matrix to find highly correlated features.\n",
    "    for i in range(len(corr_matrix.columns)):\n",
    "        for j in range(i):\n",
    "            if abs(corr_matrix.iloc[i, j]) > threshold: \n",
    "                colname = corr_matrix.columns[i]\n",
    "                rowname = corr_matrix.index[j]\n",
    "                col_corr.add((rowname, colname,round(corr_matrix.iloc[i, j],2)))\n",
    "                \n",
    "    return col_corr\n",
    "\n",
    "# set the threshold to 0.9\n",
    "mul_bejaia = multicolinearity_id(bejaia, 0.9)\n",
    "mul_sidi = multicolinearity_id(sidi, 0.9)\n",
    "print(mul_bejaia)\n",
    "print(mul_sidi)"
   ]
  },
  {
   "cell_type": "markdown",
   "id": "e7b432ce",
   "metadata": {},
   "source": [
    "So it seems that for the bejaia database, we need to drop BUI and/or DMC since they are so similar to other indices; for the sidi dataset we also need to drop BUI and FWI."
   ]
  }
 ],
 "metadata": {
  "kernelspec": {
   "display_name": "Python 3 (ipykernel)",
   "language": "python",
   "name": "python3"
  },
  "language_info": {
   "codemirror_mode": {
    "name": "ipython",
    "version": 3
   },
   "file_extension": ".py",
   "mimetype": "text/x-python",
   "name": "python",
   "nbconvert_exporter": "python",
   "pygments_lexer": "ipython3",
   "version": "3.9.15"
  }
 },
 "nbformat": 4,
 "nbformat_minor": 5
}
