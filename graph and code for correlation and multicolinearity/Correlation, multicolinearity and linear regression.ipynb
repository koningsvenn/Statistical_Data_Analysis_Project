{
 "cells": [
  {
   "cell_type": "code",
   "execution_count": null,
   "id": "c3070317",
   "metadata": {},
   "outputs": [],
   "source": [
    "import pandas as pd\n",
    "import seaborn as sns\n",
    "import matplotlib.pyplot as plt\n",
    "import numpy as np\n",
    "from sklearn import preprocessing\n",
    "from sklearn.preprocessing import StandardScaler\n",
    "from sklearn.linear_model import LinearRegression\n",
    "from sklearn.metrics import mean_absolute_error\n",
    "from sklearn.metrics import r2_score\n",
    "from statsmodels.stats.outliers_influence import variance_inflation_factor\n",
    "from sklearn.decomposition import PCA"
   ]
  },
  {
   "cell_type": "code",
   "execution_count": null,
   "id": "792d3bd0",
   "metadata": {},
   "outputs": [],
   "source": [
    "import pandas as pd\n",
    "\n",
    "# Read the data from the file into a DataFrame\n",
    "bejaia = pd.read_csv('Bejaia.csv')\n",
    "sidi = pd.read_csv('Sidi.csv')\n",
    "\n",
    "# These files contain the following columns:\n",
    "#   - day: the date of the observation\n",
    "#   - month: the month of the observation\n",
    "#   - year: the year of the observation\n",
    "#   - temperature noon (temperature max) in Celsius degrees: 22 to 42\n",
    "#   - RH: Relative Humidity in %: 21 to 90\n",
    "#   - Ws: Wind speed in km/h: 6 to 29\n",
    "#   - Rain: total day in mm: 0 to 16.8\n",
    "#   - FFMC: Fine Fuel Moisture Code (FFMC) index from the FWI system: 28.6 to 92.5\n",
    "#   - DMC: Duff Moisture Code (DMC) index from the FWI system: 1.1 to 65.9\n",
    "#          DCDrought Code (DC) index from the FWI system: 7 to 220.4\n",
    "\n",
    "# Print the first five rows of the DataFrame\n",
    "print(bejaia.head())\n",
    "print(\"----\")\n",
    "print(sidi.head())"
   ]
  },
  {
   "cell_type": "code",
   "execution_count": null,
   "id": "1c020e1c",
   "metadata": {},
   "outputs": [],
   "source": [
    "# clean the data (clean the space in rows and columns; clean the none data)\n",
    "bejaia.columns = bejaia.columns.str.strip()\n",
    "display(bejaia.columns)\n",
    "bejaia.dropna(inplace=True)\n",
    "sidi.columns = sidi.columns.str.strip()\n",
    "display(sidi.columns)\n",
    "sidi.dropna(inplace=True)\n",
    "\n",
    "bejaia.Classes = bejaia.Classes.str.strip()\n",
    "display(bejaia.Classes.unique())\n",
    "sidi.Classes = sidi.Classes.str.strip()\n",
    "display(sidi.Classes.unique())\n",
    "\n",
    "# drop the year column\n",
    "bejaia = bejaia.drop(['year'], axis = 1)\n",
    "sidi = sidi.drop(['year'], axis=1)\n",
    "\n",
    "# divide the natural factors and FWI indices\n",
    "natural_bejaia = bejaia[['Temperature', 'RH', 'Ws', 'Rain']]\n",
    "fwi_bejaia = bejaia[['FFMC', 'DMC', 'DC', 'ISI', 'BUI', 'FWI']]\n",
    "natural_sidi = bejaia[['Temperature', 'RH', 'Ws', 'Rain']]\n",
    "fwi_sidi = bejaia[['FFMC', 'DMC', 'DC', 'ISI', 'BUI', 'FWI']]\n",
    "\n",
    "# recode the class as a dumby variable (not fire: 0, fire: 1)\n",
    "replacement_mapping = {'fire': 1, 'not fire': 0}\n",
    "bejaia['Classes'] = bejaia['Classes'].replace(replacement_mapping)\n",
    "sidi['Classes'] = sidi['Classes'].replace(replacement_mapping)\n",
    "\n",
    "dep_bejaia = bejaia['Classes']\n",
    "dep_sidi = sidi['Classes']"
   ]
  },
  {
   "cell_type": "code",
   "execution_count": null,
   "id": "3b209674",
   "metadata": {},
   "outputs": [],
   "source": [
    "# get the coefficient matrix\n",
    "display(bejaia.corr())\n",
    "display(sidi.corr())"
   ]
  },
  {
   "cell_type": "code",
   "execution_count": null,
   "id": "4394ce35",
   "metadata": {},
   "outputs": [],
   "source": [
    "# get the heatmap of the coefficient matrix\n",
    "sns.set(rc={'figure.figsize':(12,10)})\n",
    "sns.heatmap(bejaia.corr())"
   ]
  },
  {
   "cell_type": "code",
   "execution_count": null,
   "id": "4065936a",
   "metadata": {},
   "outputs": [],
   "source": [
    "sns.set(rc={'figure.figsize':(12, 10)})\n",
    "sns.heatmap(sidi.corr())"
   ]
  },
  {
   "cell_type": "markdown",
   "id": "f313acaa",
   "metadata": {},
   "source": [
    "Based on these two heatmaps we can find a general pattern:\n",
    "(1) The FWI indices seem to have a strong and positive correlation with the occurence of forest fire\n",
    "(2) Natural factors like rain and relative humidity seem to have a strong and negative correlation with the occurence of forest fire\n",
    "(3) Natural factors, like temperature seem to have a middle and positive correlation with the occurence of forest fire.\n"
   ]
  },
  {
   "cell_type": "markdown",
   "id": "e84bf3fe",
   "metadata": {},
   "source": [
    "Another pattern we can identify is that some factors have a correlation coefficient that is so close to 1, which means we may have a multicollinearity that can introduce a bias to our regression model. In this case, we can see the correlation coefficient between BUI and DMC seem to be too high. Instead of making a distinction using naked eyes, we will use algorithim to help us filter our the highly-similar variables."
   ]
  },
  {
   "cell_type": "code",
   "execution_count": null,
   "id": "8026641b",
   "metadata": {},
   "outputs": [],
   "source": [
    "# separate the dependent variable\n",
    "ind_bejaia = bejaia.drop('Classes',axis=1)\n",
    "dep_bejaia = bejaia['Classes']\n",
    "ind_sidi = sidi.drop('Classes',axis=1)\n",
    "dep_sidi = sidi['Classes']\n",
    "\n",
    "# calculate the variance inflation factor for each variable in the dataset\n",
    "def calc_vif(X):\n",
    "    vif = pd.DataFrame()\n",
    "    vif[\"variables\"] = X.columns\n",
    "    vif[\"VIF\"] = [variance_inflation_factor(X.values, i) for i in range(X.shape[1])]\n",
    "    return(vif)\n",
    "\n",
    "def multico_correction(X, calc_vif):\n",
    "    corr_matrix = X.corr()\n",
    "    high_corr_var = np.where(corr_matrix > 0.9)\n",
    "    high_corr_var=[(corr_matrix.columns[x],corr_matrix.columns[y]) for x,y in zip(*high_corr_var) if x!=y and x<y]\n",
    "\n",
    "# Remove one variable from each highly correlated pair\n",
    "    for var1, var2 in high_corr_var:\n",
    "    # Make sure that both variables are still in the DataFrame\n",
    "        if var1 in X.columns and var2 in X.columns:\n",
    "            if calc_vif(X.drop(var1, axis=1))['VIF'].max() < calc_vif(X.drop(var2, axis=1))['VIF'].max():\n",
    "                print(f\"Dropping '{var1}' due to multicollinearity\")\n",
    "                X = X.drop(var1, axis=1)\n",
    "            else:\n",
    "                print(f\"Dropping '{var2}' due to multicollinearity\")\n",
    "                X = X.drop(var2, axis=1)\n",
    "        else:\n",
    "            # If one of the variables has already been dropped, print a message\n",
    "            if var1 not in X.columns:\n",
    "                print(f\"'{var1}' has already been dropped\")\n",
    "            if var2 not in X.columns:\n",
    "                print(f\"'{var2}' has already been dropped\")\n",
    "\n",
    "    vif = calc_vif(X)\n",
    "    return(vif)\n",
    "\n",
    "# run the test for different datasets\n",
    "print(\"all factors in bejaia is considered:\")\n",
    "display(multico_correction(ind_bejaia, calc_vif))\n",
    "\n",
    "print(\"all factors in sidi is considered: \")\n",
    "display(multico_correction(ind_sidi, calc_vif))\n",
    "\n",
    "print(\"only natural factors in bejaia:\")\n",
    "display(multico_correction(natural_bejaia, calc_vif))\n",
    "\n",
    "print(\"only natural factors in sidi: \")\n",
    "display(multico_correction(natural_sidi, calc_vif))\n",
    "\n",
    "print(\"only fwi indices in bejaia\")\n",
    "display(multico_correction(fwi_bejaia, calc_vif))\n",
    "\n",
    "print(\"only fwi indices sidi\")\n",
    "display(multico_correction(fwi_sidi, calc_vif))"
   ]
  },
  {
   "cell_type": "markdown",
   "id": "84689cfd",
   "metadata": {},
   "source": [
    "Based on the tables, we can see that for the FWI factors, the variance inflation factors of FFMC, DC AND ISI all drop to a number below 8 after deleting BUI, FWI and DMC. Therefore, we may consider BUI, FWI and DMC as factors that will trigger multicolinearity and should delete them in the following regression analysis. For natural factors, however, although the relation coefficient is low, they do have a VIF value that is much higher than 10. Such a high value maybe caused by (1) the data are dependent on each other, like rain and humidity, or (2) the variables are correlated in an unlinear way. To discover more about this part, scatter plots among natural factors are drawn for both datasets. However, the correlation between natural factors are inevitable, and cannot be manipulated. Therefore we will not delete any natural factors despite of the high VIF values."
   ]
  },
  {
   "cell_type": "code",
   "execution_count": null,
   "id": "2cced4d6",
   "metadata": {},
   "outputs": [],
   "source": [
    "# principal component analysis on natural factors\n",
    "scaler = StandardScaler()\n",
    "bejaia_ns = scaler.fit_transform(natural_bejaia)\n",
    "sidi_ns= scaler.fit_transform(natural_sidi)\n",
    "\n",
    "# reduce to 2 components\n",
    "pca = PCA(n_components = 3)\n",
    "bejaia_pca = pca.fit_transform(bejaia_ns)\n",
    "sidi_pca = pca.fit_transform(sidi_ns)\n",
    "display(bejaia_pca)\n",
    "display(sidi_pca)"
   ]
  },
  {
   "cell_type": "code",
   "execution_count": null,
   "id": "e0534fb2",
   "metadata": {
    "scrolled": true
   },
   "outputs": [],
   "source": [
    "# draw scatter plots among the natural factors\n",
    "def plot_scatter(df):\n",
    "    num_vars = len(df.columns)\n",
    "    fig, axs = plt.subplots(num_vars, num_vars, figsize=(15, 15))\n",
    "\n",
    "    for i in range(num_vars):\n",
    "        for j in range(num_vars):\n",
    "            axs[i, j].scatter(df.iloc[:, i], df.iloc[:, j], alpha=0.5)\n",
    "            axs[i, j].set_xlabel(df.columns[i])\n",
    "            axs[i, j].set_ylabel(df.columns[j])\n",
    "    plt.tight_layout()\n",
    "    plt.show()\n",
    "    \n",
    "plot_scatter(natural_bejaia)\n",
    "plot_scatter(natural_sidi)"
   ]
  },
  {
   "cell_type": "code",
   "execution_count": null,
   "id": "2dfb5083",
   "metadata": {
    "scrolled": true
   },
   "outputs": [],
   "source": [
    "# scale the dataset first (so that all variables'scales are standardized)\n",
    "scaler = StandardScaler()\n",
    "bejaia_scale = scaler.fit_transform(ind_bejaia)\n",
    "sidi_scale = scaler.transform(ind_sidi)\n",
    "\n",
    "# linear regression part\n",
    "def linear_regression(ind, dep):\n",
    "    lin_reg = LinearRegression()\n",
    "    lin_reg.fit(ind, dep)\n",
    "    dep_pred = lin_reg.predict(ind)\n",
    "    mae = mean_absolute_error(dep, dep_pred)\n",
    "    score = r2_score(dep,dep_pred)\n",
    "    return mae, score\n",
    "\n",
    "error_bejaia, r2_bejaia = linear_regression(bejaia_scale, dep_bejaia)\n",
    "error_sidi, r2_sidi = linear_regression(sidi_scale, dep_sidi)\n",
    "print(error_bejaia, r2_bejaia)\n",
    "print(error_sidi, r2_sidi)"
   ]
  },
  {
   "cell_type": "code",
   "execution_count": null,
   "id": "5db01884",
   "metadata": {},
   "outputs": [],
   "source": [
    "# now drop the redundant vairables from the dataset and conduct linear regression again\n",
    "ind_bejaia.drop(['BUI'],axis = 1,inplace = True)\n",
    "ind_bejaia.drop(['DMC'],axis = 1,inplace = True)\n",
    "ind_sidi.drop(['BUI'],axis = 1,inplace = True)\n",
    "ind_sidi.drop(['DMC'],axis = 1,inplace = True)\n",
    "bejaia_scale2 = scaler.fit_transform(ind_bejaia)\n",
    "sidi_scale2 = scaler.transform(ind_sidi)\n",
    "\n",
    "error_bejaia2, r2_bejaia2 = linear_regression(bejaia_scale2, dep_bejaia)\n",
    "error_sidi2, r2_sidi2 = linear_regression(sidi_scale2, dep_sidi)\n",
    "print(error_bejaia2, r2_bejaia2)\n",
    "print(error_sidi2, r2_sidi2)"
   ]
  },
  {
   "cell_type": "code",
   "execution_count": null,
   "id": "6b689f6f",
   "metadata": {},
   "outputs": [],
   "source": []
  }
 ],
 "metadata": {
  "kernelspec": {
   "display_name": "Python 3 (ipykernel)",
   "language": "python",
   "name": "python3"
  },
  "language_info": {
   "codemirror_mode": {
    "name": "ipython",
    "version": 3
   },
   "file_extension": ".py",
   "mimetype": "text/x-python",
   "name": "python",
   "nbconvert_exporter": "python",
   "pygments_lexer": "ipython3",
   "version": "3.9.15"
  }
 },
 "nbformat": 4,
 "nbformat_minor": 5
}
