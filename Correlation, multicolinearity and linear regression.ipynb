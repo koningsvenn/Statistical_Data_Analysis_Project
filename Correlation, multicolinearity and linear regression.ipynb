{
 "cells": [
  {
   "cell_type": "code",
   "execution_count": null,
   "id": "c3070317",
   "metadata": {},
   "outputs": [],
   "source": [
    "import pandas as pd\n",
    "import seaborn as sns\n",
    "import matplotlib.pyplot as plt\n",
    "from sklearn import preprocessing\n",
    "from sklearn.preprocessing import StandardScaler\n",
    "from sklearn.linear_model import LinearRegression\n",
    "from sklearn.metrics import mean_absolute_error\n",
    "from sklearn.metrics import r2_score"
   ]
  },
  {
   "cell_type": "code",
   "execution_count": null,
   "id": "792d3bd0",
   "metadata": {},
   "outputs": [],
   "source": [
    "import pandas as pd\n",
    "\n",
    "# Read the data from the file into a DataFrame\n",
    "bejaia = pd.read_csv('Bejaia.csv')\n",
    "sidi = pd.read_csv('Sidi.csv')\n",
    "\n",
    "# These files contain the following columns:\n",
    "#   - day: the date of the observation\n",
    "#   - month: the month of the observation\n",
    "#   - year: the year of the observation\n",
    "#   - temperature noon (temperature max) in Celsius degrees: 22 to 42\n",
    "#   - RH: Relative Humidity in %: 21 to 90\n",
    "#   - Ws: Wind speed in km/h: 6 to 29\n",
    "#   - Rain: total day in mm: 0 to 16.8\n",
    "#   - FFMC: Fine Fuel Moisture Code (FFMC) index from the FWI system: 28.6 to 92.5\n",
    "#   - DMC: Duff Moisture Code (DMC) index from the FWI system: 1.1 to 65.9\n",
    "#          DCDrought Code (DC) index from the FWI system: 7 to 220.4\n",
    "\n",
    "# Print the first five rows of the DataFrame\n",
    "print(bejaia.head())\n",
    "print(\"----\")\n",
    "print(sidi.head())"
   ]
  },
  {
   "cell_type": "code",
   "execution_count": null,
   "id": "1c020e1c",
   "metadata": {},
   "outputs": [],
   "source": [
    "# clean the data (clean the space in rows and columns; clean the none data)\n",
    "bejaia.columns = bejaia.columns.str.strip()\n",
    "display(bejaia.columns)\n",
    "bejaia.dropna(inplace=True)\n",
    "sidi.columns = sidi.columns.str.strip()\n",
    "display(sidi.columns)\n",
    "sidi.dropna(inplace=True)\n",
    "\n",
    "bejaia.Classes = bejaia.Classes.str.strip()\n",
    "display(bejaia.Classes.unique())\n",
    "sidi.Classes = sidi.Classes.str.strip()\n",
    "display(sidi.Classes.unique())\n",
    "\n",
    "# drop the year column\n",
    "bejaia = bejaia.drop(['year'], axis = 1)\n",
    "sidi = sidi.drop(['year'], axis=1)"
   ]
  },
  {
   "cell_type": "code",
   "execution_count": null,
   "id": "b75ee63b",
   "metadata": {},
   "outputs": [],
   "source": [
    "# recode the class as a dumby variable (not fire: 0, fire: 1)\n",
    "replacement_mapping = {'fire': 1, 'not fire': 0}\n",
    "bejaia['Classes'] = bejaia['Classes'].replace(replacement_mapping)\n",
    "sidi['Classes'] = sidi['Classes'].replace(replacement_mapping)"
   ]
  },
  {
   "cell_type": "code",
   "execution_count": null,
   "id": "3b209674",
   "metadata": {},
   "outputs": [],
   "source": [
    "# get the coefficient matrix\n",
    "display(bejaia.corr())\n",
    "display(sidi.corr())"
   ]
  },
  {
   "cell_type": "code",
   "execution_count": null,
   "id": "4394ce35",
   "metadata": {},
   "outputs": [],
   "source": [
    "# get the heatmap of the coefficient matrix to get a better idea of the correlation among variables\n",
    "sns.set(rc={'figure.figsize':(12,10)})\n",
    "sns.heatmap(bejaia.corr())"
   ]
  },
  {
   "cell_type": "code",
   "execution_count": null,
   "id": "4065936a",
   "metadata": {},
   "outputs": [],
   "source": [
    "sns.set(rc={'figure.figsize':(12, 10)})\n",
    "sns.heatmap(sidi.corr())"
   ]
  },
  {
   "cell_type": "markdown",
   "id": "f313acaa",
   "metadata": {},
   "source": [
    "Based on these two heatmaps we can find a general pattern:\n",
    "(1) The FWI indices seem to have a strong and positive correlation with the occurence of forest fire\n",
    "(2) Natural factors like rain and relative humidity seem to have a strong and negative correlation with the occurence of forest fire\n",
    "(3) Natural factors, like temperature seem to have a middle and positive correlation with the occurence of forest fire.\n"
   ]
  },
  {
   "cell_type": "markdown",
   "id": "e84bf3fe",
   "metadata": {},
   "source": [
    "Another pattern we can identify is that some factors have a correlation coefficient that is so close to 1, which means we may have a multicollinearity that can introduce a bias to our regression model. In this case, we can see the correlation coefficient between BUI and DMC seem to be too high. Instead of making a distinction using naked eyes, we will use algorithim to help us filter our the highly-similar variables."
   ]
  },
  {
   "cell_type": "code",
   "execution_count": null,
   "id": "20eb6ddf",
   "metadata": {},
   "outputs": [],
   "source": [
    "def multicolinearity_id(dataset, threshold):\n",
    "    col_corr = set()\n",
    "    corr_matrix = dataset.corr()\n",
    "    \n",
    "    # loop through the correlation matrix to find highly correlated features.\n",
    "    for i in range(len(corr_matrix.columns)):\n",
    "        for j in range(i):\n",
    "            if abs(corr_matrix.iloc[i, j]) > threshold: \n",
    "                colname = corr_matrix.columns[i]\n",
    "                rowname = corr_matrix.index[j]\n",
    "                col_corr.add((rowname, colname,round(corr_matrix.iloc[i, j],2)))\n",
    "                \n",
    "    return col_corr\n",
    "\n",
    "# set the threshold to 0.9\n",
    "mul_bejaia = multicolinearity_id(bejaia, 0.9)\n",
    "mul_sidi = multicolinearity_id(sidi, 0.9)\n",
    "print(mul_bejaia)\n",
    "print(mul_sidi)"
   ]
  },
  {
   "cell_type": "markdown",
   "id": "e7b432ce",
   "metadata": {},
   "source": [
    "So it seems that for the bejaia database, we need to drop BUI and/or DMC since they are so similar to other indices; for the sidi dataset we also need to drop BUI and FWI."
   ]
  },
  {
   "cell_type": "code",
   "execution_count": null,
   "id": "4588e953",
   "metadata": {
    "scrolled": true
   },
   "outputs": [],
   "source": [
    "# first conduct the linear regression before removing the redundant variables\n",
    "ind_bejaia = bejaia.drop('Classes',axis=1)\n",
    "dep_bejaia = bejaia['Classes']\n",
    "ind_sidi = sidi.drop('Classes',axis=1)\n",
    "dep_sidi = sidi['Classes']\n",
    "\n",
    "# scale the dataset first (so that all variables'scales are standardized)\n",
    "scaler = StandardScaler()\n",
    "bejaia_scale = scaler.fit_transform(ind_bejaia)\n",
    "sidi_scale = scaler.transform(ind_sidi)\n",
    "\n",
    "# plot the scaling\n",
    "plt.subplot(1, 2, 1)\n",
    "sns.boxplot(data = bejaia_scale)\n",
    "plt.subplot(1, 2, 2)\n",
    "sns.boxplot(data = sidi_scale)\n",
    "\n",
    "# linear regression part\n",
    "def linear_regression(ind, dep):\n",
    "    lin_reg = LinearRegression()\n",
    "    lin_reg.fit(ind, dep)\n",
    "    dep_pred = lin_reg.predict(ind)\n",
    "    mae = mean_absolute_error(dep, dep_pred)\n",
    "    score=r2_score(dep,dep_pred)\n",
    "    return mae, score\n",
    "\n",
    "error_bejaia, r2_bejaia = linear_regression(bejaia_scale, dep_bejaia)\n",
    "error_sidi, r2_sidi = linear_regression(sidi_scale, dep_sidi)\n",
    "print(error_bejaia, r2_bejaia)\n",
    "print(error_sidi, r2_sidi)"
   ]
  },
  {
   "cell_type": "code",
   "execution_count": null,
   "id": "3ad24b43",
   "metadata": {},
   "outputs": [],
   "source": [
    "# now drop the redundant vairables from the dataset and conduct linear regression again\n",
    "ind_bejaia.drop(['BUI'],axis = 1,inplace = True)\n",
    "ind_sidi.drop(['BUI'],axis = 1,inplace = True)\n",
    "bejaia_scale2 = scaler.fit_transform(ind_bejaia)\n",
    "sidi_scale2 = scaler.transform(ind_sidi)\n",
    "\n",
    "error_bejaia2, r2_bejaia2 = linear_regression(bejaia_scale2, dep_bejaia)\n",
    "error_sidi2, r2_sidi2 = linear_regression(sidi_scale2, dep_sidi)\n",
    "print(error_bejaia2, r2_bejaia2)\n",
    "print(error_sidi2, r2_sidi2)"
   ]
  }
 ],
 "metadata": {
  "kernelspec": {
   "display_name": "Python 3 (ipykernel)",
   "language": "python",
   "name": "python3"
  },
  "language_info": {
   "codemirror_mode": {
    "name": "ipython",
    "version": 3
   },
   "file_extension": ".py",
   "mimetype": "text/x-python",
   "name": "python",
   "nbconvert_exporter": "python",
   "pygments_lexer": "ipython3",
   "version": "3.9.15"
  }
 },
 "nbformat": 4,
 "nbformat_minor": 5
}
